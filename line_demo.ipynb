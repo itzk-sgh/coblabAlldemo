{
  "nbformat": 4,
  "nbformat_minor": 0,
  "metadata": {
    "colab": {
      "provenance": [],
      "authorship_tag": "ABX9TyOdrZBSmA5bRO9fwXwJ5Mdz",
      "include_colab_link": true
    },
    "kernelspec": {
      "name": "python3",
      "display_name": "Python 3"
    },
    "language_info": {
      "name": "python"
    },
    "widgets": {
      "application/vnd.jupyter.widget-state+json": {
        "de3e03d8b5114effb3bf1c5a755a5855": {
          "model_module": "@jupyter-widgets/controls",
          "model_name": "VBoxModel",
          "model_module_version": "1.5.0",
          "state": {
            "_dom_classes": [
              "widget-interact"
            ],
            "_model_module": "@jupyter-widgets/controls",
            "_model_module_version": "1.5.0",
            "_model_name": "VBoxModel",
            "_view_count": null,
            "_view_module": "@jupyter-widgets/controls",
            "_view_module_version": "1.5.0",
            "_view_name": "VBoxView",
            "box_style": "",
            "children": [
              "IPY_MODEL_73fc2165d8394625bc177797cfc09204",
              "IPY_MODEL_fcefc1e4161e4536bb40cca2b1e33197",
              "IPY_MODEL_27e5d5b8def14c68b4042860b970f9d0"
            ],
            "layout": "IPY_MODEL_e79c91077a5c4e0bbc9bcda0c96d9f59"
          }
        },
        "73fc2165d8394625bc177797cfc09204": {
          "model_module": "@jupyter-widgets/controls",
          "model_name": "IntSliderModel",
          "model_module_version": "1.5.0",
          "state": {
            "_dom_classes": [],
            "_model_module": "@jupyter-widgets/controls",
            "_model_module_version": "1.5.0",
            "_model_name": "IntSliderModel",
            "_view_count": null,
            "_view_module": "@jupyter-widgets/controls",
            "_view_module_version": "1.5.0",
            "_view_name": "IntSliderView",
            "continuous_update": true,
            "description": "w",
            "description_tooltip": null,
            "disabled": false,
            "layout": "IPY_MODEL_3dbd0c76a87b41ecb34db9bdb8f77a3d",
            "max": 100,
            "min": -100,
            "orientation": "horizontal",
            "readout": true,
            "readout_format": "d",
            "step": 1,
            "style": "IPY_MODEL_6047ae43b8ab4fa1bef676ca80087207",
            "value": -13
          }
        },
        "fcefc1e4161e4536bb40cca2b1e33197": {
          "model_module": "@jupyter-widgets/controls",
          "model_name": "IntSliderModel",
          "model_module_version": "1.5.0",
          "state": {
            "_dom_classes": [],
            "_model_module": "@jupyter-widgets/controls",
            "_model_module_version": "1.5.0",
            "_model_name": "IntSliderModel",
            "_view_count": null,
            "_view_module": "@jupyter-widgets/controls",
            "_view_module_version": "1.5.0",
            "_view_name": "IntSliderView",
            "continuous_update": true,
            "description": "b",
            "description_tooltip": null,
            "disabled": false,
            "layout": "IPY_MODEL_631ce0cb9d5846abb80a22ac615cb617",
            "max": 100,
            "min": -100,
            "orientation": "horizontal",
            "readout": true,
            "readout_format": "d",
            "step": 1,
            "style": "IPY_MODEL_4f3193ba3d2246a3af1ea214d093a4b2",
            "value": -53
          }
        },
        "27e5d5b8def14c68b4042860b970f9d0": {
          "model_module": "@jupyter-widgets/output",
          "model_name": "OutputModel",
          "model_module_version": "1.0.0",
          "state": {
            "_dom_classes": [],
            "_model_module": "@jupyter-widgets/output",
            "_model_module_version": "1.0.0",
            "_model_name": "OutputModel",
            "_view_count": null,
            "_view_module": "@jupyter-widgets/output",
            "_view_module_version": "1.0.0",
            "_view_name": "OutputView",
            "layout": "IPY_MODEL_6ca2340f71254953bd316a2974dd56b1",
            "msg_id": "",
            "outputs": [
              {
                "output_type": "display_data",
                "data": {
                  "text/plain": "<Figure size 640x480 with 1 Axes>",
                  "image/png": "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\n"
                },
                "metadata": {}
              }
            ]
          }
        },
        "e79c91077a5c4e0bbc9bcda0c96d9f59": {
          "model_module": "@jupyter-widgets/base",
          "model_name": "LayoutModel",
          "model_module_version": "1.2.0",
          "state": {
            "_model_module": "@jupyter-widgets/base",
            "_model_module_version": "1.2.0",
            "_model_name": "LayoutModel",
            "_view_count": null,
            "_view_module": "@jupyter-widgets/base",
            "_view_module_version": "1.2.0",
            "_view_name": "LayoutView",
            "align_content": null,
            "align_items": null,
            "align_self": null,
            "border": null,
            "bottom": null,
            "display": null,
            "flex": null,
            "flex_flow": null,
            "grid_area": null,
            "grid_auto_columns": null,
            "grid_auto_flow": null,
            "grid_auto_rows": null,
            "grid_column": null,
            "grid_gap": null,
            "grid_row": null,
            "grid_template_areas": null,
            "grid_template_columns": null,
            "grid_template_rows": null,
            "height": null,
            "justify_content": null,
            "justify_items": null,
            "left": null,
            "margin": null,
            "max_height": null,
            "max_width": null,
            "min_height": null,
            "min_width": null,
            "object_fit": null,
            "object_position": null,
            "order": null,
            "overflow": null,
            "overflow_x": null,
            "overflow_y": null,
            "padding": null,
            "right": null,
            "top": null,
            "visibility": null,
            "width": null
          }
        },
        "3dbd0c76a87b41ecb34db9bdb8f77a3d": {
          "model_module": "@jupyter-widgets/base",
          "model_name": "LayoutModel",
          "model_module_version": "1.2.0",
          "state": {
            "_model_module": "@jupyter-widgets/base",
            "_model_module_version": "1.2.0",
            "_model_name": "LayoutModel",
            "_view_count": null,
            "_view_module": "@jupyter-widgets/base",
            "_view_module_version": "1.2.0",
            "_view_name": "LayoutView",
            "align_content": null,
            "align_items": null,
            "align_self": null,
            "border": null,
            "bottom": null,
            "display": null,
            "flex": null,
            "flex_flow": null,
            "grid_area": null,
            "grid_auto_columns": null,
            "grid_auto_flow": null,
            "grid_auto_rows": null,
            "grid_column": null,
            "grid_gap": null,
            "grid_row": null,
            "grid_template_areas": null,
            "grid_template_columns": null,
            "grid_template_rows": null,
            "height": null,
            "justify_content": null,
            "justify_items": null,
            "left": null,
            "margin": null,
            "max_height": null,
            "max_width": null,
            "min_height": null,
            "min_width": null,
            "object_fit": null,
            "object_position": null,
            "order": null,
            "overflow": null,
            "overflow_x": null,
            "overflow_y": null,
            "padding": null,
            "right": null,
            "top": null,
            "visibility": null,
            "width": null
          }
        },
        "6047ae43b8ab4fa1bef676ca80087207": {
          "model_module": "@jupyter-widgets/controls",
          "model_name": "SliderStyleModel",
          "model_module_version": "1.5.0",
          "state": {
            "_model_module": "@jupyter-widgets/controls",
            "_model_module_version": "1.5.0",
            "_model_name": "SliderStyleModel",
            "_view_count": null,
            "_view_module": "@jupyter-widgets/base",
            "_view_module_version": "1.2.0",
            "_view_name": "StyleView",
            "description_width": "",
            "handle_color": null
          }
        },
        "631ce0cb9d5846abb80a22ac615cb617": {
          "model_module": "@jupyter-widgets/base",
          "model_name": "LayoutModel",
          "model_module_version": "1.2.0",
          "state": {
            "_model_module": "@jupyter-widgets/base",
            "_model_module_version": "1.2.0",
            "_model_name": "LayoutModel",
            "_view_count": null,
            "_view_module": "@jupyter-widgets/base",
            "_view_module_version": "1.2.0",
            "_view_name": "LayoutView",
            "align_content": null,
            "align_items": null,
            "align_self": null,
            "border": null,
            "bottom": null,
            "display": null,
            "flex": null,
            "flex_flow": null,
            "grid_area": null,
            "grid_auto_columns": null,
            "grid_auto_flow": null,
            "grid_auto_rows": null,
            "grid_column": null,
            "grid_gap": null,
            "grid_row": null,
            "grid_template_areas": null,
            "grid_template_columns": null,
            "grid_template_rows": null,
            "height": null,
            "justify_content": null,
            "justify_items": null,
            "left": null,
            "margin": null,
            "max_height": null,
            "max_width": null,
            "min_height": null,
            "min_width": null,
            "object_fit": null,
            "object_position": null,
            "order": null,
            "overflow": null,
            "overflow_x": null,
            "overflow_y": null,
            "padding": null,
            "right": null,
            "top": null,
            "visibility": null,
            "width": null
          }
        },
        "4f3193ba3d2246a3af1ea214d093a4b2": {
          "model_module": "@jupyter-widgets/controls",
          "model_name": "SliderStyleModel",
          "model_module_version": "1.5.0",
          "state": {
            "_model_module": "@jupyter-widgets/controls",
            "_model_module_version": "1.5.0",
            "_model_name": "SliderStyleModel",
            "_view_count": null,
            "_view_module": "@jupyter-widgets/base",
            "_view_module_version": "1.2.0",
            "_view_name": "StyleView",
            "description_width": "",
            "handle_color": null
          }
        },
        "6ca2340f71254953bd316a2974dd56b1": {
          "model_module": "@jupyter-widgets/base",
          "model_name": "LayoutModel",
          "model_module_version": "1.2.0",
          "state": {
            "_model_module": "@jupyter-widgets/base",
            "_model_module_version": "1.2.0",
            "_model_name": "LayoutModel",
            "_view_count": null,
            "_view_module": "@jupyter-widgets/base",
            "_view_module_version": "1.2.0",
            "_view_name": "LayoutView",
            "align_content": null,
            "align_items": null,
            "align_self": null,
            "border": null,
            "bottom": null,
            "display": null,
            "flex": null,
            "flex_flow": null,
            "grid_area": null,
            "grid_auto_columns": null,
            "grid_auto_flow": null,
            "grid_auto_rows": null,
            "grid_column": null,
            "grid_gap": null,
            "grid_row": null,
            "grid_template_areas": null,
            "grid_template_columns": null,
            "grid_template_rows": null,
            "height": null,
            "justify_content": null,
            "justify_items": null,
            "left": null,
            "margin": null,
            "max_height": null,
            "max_width": null,
            "min_height": null,
            "min_width": null,
            "object_fit": null,
            "object_position": null,
            "order": null,
            "overflow": null,
            "overflow_x": null,
            "overflow_y": null,
            "padding": null,
            "right": null,
            "top": null,
            "visibility": null,
            "width": null
          }
        }
      }
    }
  },
  "cells": [
    {
      "cell_type": "markdown",
      "metadata": {
        "id": "view-in-github",
        "colab_type": "text"
      },
      "source": [
        "<a href=\"https://colab.research.google.com/github/itzk-sgh/coblabAlldemo/blob/main/line_demo.ipynb\" target=\"_parent\"><img src=\"https://colab.research.google.com/assets/colab-badge.svg\" alt=\"Open In Colab\"/></a>"
      ]
    },
    {
      "cell_type": "code",
      "source": [
        "import pandas as pd\n",
        "\n",
        "url = \"https://raw.githubusercontent.com/GrandmaCan/ML/main/Resgression/Salary_Data.csv\"\n",
        "\n",
        "data = pd.read_csv(url)\n",
        "data\n",
        "# y = w*x + b\n",
        "x = data[\"YearsExperience\"]\n",
        "y = data[\"Salary\"]\n",
        "y"
      ],
      "metadata": {
        "id": "TZ-BvD5YoT2t"
      },
      "execution_count": null,
      "outputs": []
    },
    {
      "cell_type": "code",
      "source": [
        "!pip install wget\n",
        "import wget\n",
        "wget.download(\"https://github.com/GrandmaCan/ML/raw/main/Resgression/ChineseFont.ttf\")"
      ],
      "metadata": {
        "colab": {
          "base_uri": "https://localhost:8080/",
          "height": 209
        },
        "id": "JsqP3GzAsSUG",
        "outputId": "8a2dca65-2e0d-47fb-cee0-c591d6833686"
      },
      "execution_count": 8,
      "outputs": [
        {
          "output_type": "stream",
          "name": "stdout",
          "text": [
            "Collecting wget\n",
            "  Downloading wget-3.2.zip (10 kB)\n",
            "  Preparing metadata (setup.py) ... \u001b[?25l\u001b[?25hdone\n",
            "Building wheels for collected packages: wget\n",
            "  Building wheel for wget (setup.py) ... \u001b[?25l\u001b[?25hdone\n",
            "  Created wheel for wget: filename=wget-3.2-py3-none-any.whl size=9655 sha256=a5b00e38acb373727c5345c5225f352abf919799c6a6a3f26f887994dd444580\n",
            "  Stored in directory: /root/.cache/pip/wheels/8b/f1/7f/5c94f0a7a505ca1c81cd1d9208ae2064675d97582078e6c769\n",
            "Successfully built wget\n",
            "Installing collected packages: wget\n",
            "Successfully installed wget-3.2\n"
          ]
        },
        {
          "output_type": "execute_result",
          "data": {
            "text/plain": [
              "'ChineseFont.ttf'"
            ],
            "application/vnd.google.colaboratory.intrinsic+json": {
              "type": "string"
            }
          },
          "metadata": {},
          "execution_count": 8
        }
      ]
    },
    {
      "cell_type": "code",
      "source": [
        "import matplotlib.pyplot as plt\n",
        "import matplotlib as mlp\n",
        "from matplotlib.font_manager import fontManager\n",
        "\n",
        "fontManager.addfont(\"ChineseFont.ttf\")\n",
        "mlp.rc('font',family=\"ChineseFont\")\n",
        "\n",
        "# plt.scatter(x,y)\n",
        "plt.scatter(x,y,marker=\"x\", color=\"red\")\n",
        "plt.title(\"年资-薪水\")\n",
        "plt.xlabel(\"年资\")\n",
        "plt.ylabel(\"月薪（千）\")\n",
        "plt.show()"
      ],
      "metadata": {
        "colab": {
          "base_uri": "https://localhost:8080/",
          "height": 472
        },
        "id": "bhwUgGJbrKQw",
        "outputId": "2f916fe5-2c71-4c36-fb1b-4889a1a6a3a0"
      },
      "execution_count": 10,
      "outputs": [
        {
          "output_type": "display_data",
          "data": {
            "text/plain": [
              "<Figure size 640x480 with 1 Axes>"
            ],
            "image/png": "[encoded data removed]"
          },
          "metadata": {}
        }
      ]
    },
    {
      "cell_type": "code",
      "source": [
        "w = 0\n",
        "b = 0\n",
        "def plot_pred(w,b):\n",
        "  y_pred = x*w + b\n",
        "  plt.plot(x,y_pred,color=\"blue\",label=\"预测线\")\n",
        "  # plt.scatter(x,y)\n",
        "  plt.scatter(x,y,marker=\"x\", color=\"red\",label=\"真实数据\")\n",
        "  plt.title(\"年资-薪水\")\n",
        "  plt.xlabel(\"年资\")\n",
        "  plt.ylabel(\"月薪（千）\")\n",
        "  plt.xlim([0,12])\n",
        "  plt.ylim([-60,140])\n",
        "  plt.legend()\n",
        "  plt.show()\n",
        "\n",
        "plot_pred(8,40)"
      ],
      "metadata": {
        "colab": {
          "base_uri": "https://localhost:8080/",
          "height": 472
        },
        "id": "e2UcqCBxttyI",
        "outputId": "7da83127-e874-4549-b9d7-b6b6cd543a9f"
      },
      "execution_count": 20,
      "outputs": [
        {
          "output_type": "display_data",
          "data": {
            "text/plain": [
              "<Figure size 640x480 with 1 Axes>"
            ],
            "image/png": "[encoded data removed]"
          },
          "metadata": {}
        }
      ]
    },
    {
      "cell_type": "code",
      "source": [
        "from ipywidgets import interact\n",
        "interact(plot_pred,w=(-100,100,1),b=(-100,100,1))"
      ],
      "metadata": {
        "colab": {
          "base_uri": "https://localhost:8080/",
          "height": 553,
          "referenced_widgets": [
            "de3e03d8b5114effb3bf1c5a755a5855",
            "73fc2165d8394625bc177797cfc09204",
            "fcefc1e4161e4536bb40cca2b1e33197",
            "27e5d5b8def14c68b4042860b970f9d0",
            "e79c91077a5c4e0bbc9bcda0c96d9f59",
            "3dbd0c76a87b41ecb34db9bdb8f77a3d",
            "6047ae43b8ab4fa1bef676ca80087207",
            "631ce0cb9d5846abb80a22ac615cb617",
            "4f3193ba3d2246a3af1ea214d093a4b2",
            "6ca2340f71254953bd316a2974dd56b1"
          ]
        },
        "id": "U5PcBKLhunNA",
        "outputId": "2a72df79-c21c-4716-a2df-4c89c74ec32a"
      },
      "execution_count": 21,
      "outputs": [
        {
          "output_type": "display_data",
          "data": {
            "text/plain": [
              "interactive(children=(IntSlider(value=0, description='w', min=-100), IntSlider(value=0, description='b', min=-…"
            ],
            "application/vnd.jupyter.widget-view+json": {
              "version_major": 2,
              "version_minor": 0,
              "model_id": "de3e03d8b5114effb3bf1c5a755a5855"
            }
          },
          "metadata": {}
        },
        {
          "output_type": "execute_result",
          "data": {
            "text/plain": [
              "<function __main__.plot_pred(w, b)>"
            ]
          },
          "metadata": {},
          "execution_count": 21
        }
      ]
    }
  ]
}