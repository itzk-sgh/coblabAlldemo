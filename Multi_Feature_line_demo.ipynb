{
  "nbformat": 4,
  "nbformat_minor": 0,
  "metadata": {
    "colab": {
      "provenance": [],
      "toc_visible": true,
      "authorship_tag": "ABX9TyNUZ7lXzFRvwjMx9NoeZsRq",
      "include_colab_link": true
    },
    "kernelspec": {
      "name": "python3",
      "display_name": "Python 3"
    },
    "language_info": {
      "name": "python"
    }
  },
  "cells": [
    {
      "cell_type": "markdown",
      "metadata": {
        "id": "view-in-github",
        "colab_type": "text"
      },
      "source": [
        "<a href=\"https://colab.research.google.com/github/itzk-sgh/coblabAlldemo/blob/main/Multi_Feature_line_demo.ipynb\" target=\"_parent\"><img src=\"https://colab.research.google.com/assets/colab-badge.svg\" alt=\"Open In Colab\"/></a>"
      ]
    },
    {
      "cell_type": "code",
      "execution_count": null,
      "metadata": {
        "id": "TmNmfRPbZMbL"
      },
      "outputs": [],
      "source": [
        "# 对应学习视频：https://www.youtube.com/watch?v=wm9yR1VspPs\n",
        "# y = w1 * x1 + w2 * x2 + w3 * x3... + b\n"
      ]
    }
  ]
}